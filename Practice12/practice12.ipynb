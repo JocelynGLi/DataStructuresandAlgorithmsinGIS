{
 "cells": [
  {
   "cell_type": "code",
   "execution_count": 2,
   "metadata": {},
   "outputs": [],
   "source": [
    "class Graph():\n",
    "    #初始化基本结构\n",
    "    def __init__(self, n):\n",
    "        self.vNum = n  \n",
    "        self.vexs = [0] * self.vNum ##建立一个全为0的顶点矩阵\n",
    "        self.arcs = [[float('inf')] * self.vNum for _ in range(self.vNum)] #建立一个全为正无穷的邻接矩阵\n",
    "        for i in range(n):\n",
    "            self.arcs[i][i] = 0 #对角线为0\n",
    "    #添加顶点\n",
    "    def addVex(self, v, i):\n",
    "        self.vexs[i] = v\n",
    "    #添加边，并设置权\n",
    "    def addArcs(self, v1, v2, cost):\n",
    "        self.arcs[v1][v2] = cost\n",
    "        self.arcs[v2][v1] = cost\n",
    "        \n",
    "def dijkstra(G, v0):\n",
    "    INF = float('inf')\n",
    "    S = [v0] #已找到最短路径的顶点集合\n",
    "    U = [v for v in range(G.vNum) if v not in S] #记录还未确定最短路径的顶点集合\n",
    "    D = [INF] * G.vNum #存在放从顶点v0到v的最短路径长度\n",
    "    D[v0] = 0 #起点到自己的距离为0\n",
    "    P = [''] * G.vNum #存放从v0到v最短路径上的顶点序列\n",
    "    while len(S) < G.vNum: #当已找到最短路径的顶点小于n时\n",
    "        min_value = INF\n",
    "        col = -1\n",
    "        row = -1\n",
    "        for s in S: #以已找到最短路径的顶点所在行为搜索对象\n",
    "            for u in U: #从U中搜索尚未记录的顶点\n",
    "                if G.arcs[s][u] + D[s] < min_value: #找出最小值\n",
    "                    min_value = G.arcs[s][u] + D[s] \n",
    "                    #记录所在行列\n",
    "                    row = s         \n",
    "                    col = u\n",
    "                    if P[s] == '':\n",
    "                        P[u] = str(G.vexs[s]) + '-' + str(G.vexs[u])\n",
    "                    else:\n",
    "                        P[u] = str(P[s]) + '-' + str(G.vexs[u])\n",
    "        if col == -1 or row == -1: #若没找出最小值且顶点还未找完，说明图中存在不连通的顶点\n",
    "            break\n",
    "        S.append(col) #在S中添加已找到的顶点\n",
    "        U.remove(col) #从U中移除已找到的顶点\n",
    "        D[col] = min_value #v0到该顶点的最短距离即为min_value  \n",
    "    P[v0] = str(G.vexs[v0])\n",
    "    return D, P"
   ]
  },
  {
   "cell_type": "code",
   "execution_count": 3,
   "metadata": {},
   "outputs": [
    {
     "name": "stdout",
     "output_type": "stream",
     "text": [
      "从A到A的最短路径为A,距离为0\n",
      "从A到B的最短路径为A-B,距离为60\n",
      "从A到C的最短路径为A-C,距离为80\n",
      "从A到D的最短路径为A-D,距离为30\n",
      "从A到E的最短路径为A-D-E,距离为75\n"
     ]
    }
   ],
   "source": [
    "#测试\n",
    "n = 5\n",
    "#创建一个图\n",
    "g = Graph(n)\n",
    "#往图中添加顶点\n",
    "g.addVex('A', 0)\n",
    "g.addVex('B', 1)\n",
    "g.addVex('C', 2)\n",
    "g.addVex('D', 3)\n",
    "g.addVex('E', 4)\n",
    "#往图中添加边及权\n",
    "g.addArcs(0, 1, 60)\n",
    "g.addArcs(0, 2, 80)\n",
    "g.addArcs(0, 3, 30)\n",
    "g.addArcs(1, 2, 40)\n",
    "g.addArcs(1, 3, 75)\n",
    "g.addArcs(2, 4, 35)\n",
    "g.addArcs(3, 4, 45)\n",
    "distance, route = dijkstra(g, 0)\n",
    "for i in range(len(distance)):\n",
    "    print(f'从A到{g.vexs[i]}的最短路径为{route[i]},距离为{distance[i]}')"
   ]
  },
  {
   "cell_type": "code",
   "execution_count": 5,
   "metadata": {},
   "outputs": [
    {
     "name": "stdout",
     "output_type": "stream",
     "text": [
      "点(-1361.7764848724764, -24537.437368433864)到点(-2477.24310991136, -21460.279477568038)的最短距离为：3530.62米\n"
     ]
    }
   ],
   "source": [
    "import json\n",
    "#读取geojson数据\n",
    "file_path = '/Users/jocelynli/Library/CloudStorage/OneDrive-stu.ecnu.edu.cn/ECNU/大三上/数据结构与算法/project/第12周/road-sample-utm-fixed.geojson'\n",
    "with open(file_path, 'r', encoding='utf-8') as file:\n",
    "    data = json.load(file)\n",
    "roads = data['features']\n",
    "Vexes = {} #存放每条路的端点，key为端点的坐标，value为0或1，0代表该点未被添加到图中，1代表该点已被添加到图中\n",
    "for road in roads: \n",
    "    coordinates = road['geometry']['coordinates'][0]\n",
    "    start = tuple(coordinates[0]) #将端点的坐标从列表转化为元组，因为字典的键必须是可哈希的类型\n",
    "    end = tuple(coordinates[-1])\n",
    "    #将每条路的两个端点存放到字典中，避免重复存放同一个点\n",
    "    if start not in Vexes:\n",
    "        Vexes[start] = 0 #初始设定该点未被添加到图中\n",
    "    if end not in Vexes:\n",
    "        Vexes[end] = 0\n",
    "keys_list = list(Vexes.keys()) #将字典中的key作为列表，便于获取序号\n",
    "G = Graph(len(Vexes)) #创建图\n",
    "for road in roads: #将每条路的两个端点作为图的顶点\n",
    "    road_length = road['properties']['SHAPE_Leng']\n",
    "    coordinates = road['geometry']['coordinates'][0]\n",
    "    start = tuple(coordinates[0]) \n",
    "    if Vexes[start] == 0: #若该点未被添加到图中，则向图中添加该点\n",
    "        start_idx = keys_list.index(start) \n",
    "        G.addVex(start, start_idx)\n",
    "        Vexes[start] = 1 #更新value，该点已被添加到图中\n",
    "    else:\n",
    "        start_idx = keys_list.index(start)\n",
    "    end = tuple(coordinates[-1])\n",
    "    if Vexes[end] == 0:\n",
    "        end_idx = keys_list.index(end)\n",
    "        G.addVex(end, end_idx)\n",
    "        Vexes[end] = 1 \n",
    "    else:\n",
    "        end_idx = keys_list.index(end)\n",
    "    G.addArcs(start_idx, end_idx, road_length) #往图中添加边及权\n",
    "\n",
    "#设定要查找的两个点\n",
    "start_point = (-1361.7764848724764, -24537.437368433864)\n",
    "end_point = (-2477.243109911360079, -21460.279477568037692)\n",
    "index1 = keys_list.index(start_point)\n",
    "index2 = keys_list.index(end_point)\n",
    "Distance, P = dijkstra(G, index1)\n",
    "print(f'点{start_point}到点{end_point}的最短距离为：{Distance[index2]}米')"
   ]
  }
 ],
 "metadata": {
  "kernelspec": {
   "display_name": "base",
   "language": "python",
   "name": "python3"
  },
  "language_info": {
   "codemirror_mode": {
    "name": "ipython",
    "version": 3
   },
   "file_extension": ".py",
   "mimetype": "text/x-python",
   "name": "python",
   "nbconvert_exporter": "python",
   "pygments_lexer": "ipython3",
   "version": "3.8.8"
  }
 },
 "nbformat": 4,
 "nbformat_minor": 2
}
